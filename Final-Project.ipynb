{
 "cells": [
  {
   "cell_type": "markdown",
   "metadata": {},
   "source": [
    "# THE Best Neighborhood in Pittsburgh\n",
    "### A project by Brian Grammer, Jeff Leonata, & Matt Gutkin\n",
    "##### All data was downloaded as of 11/11/2019\n",
    "---"
   ]
  },
  {
   "cell_type": "markdown",
   "metadata": {},
   "source": [
    "## Introduction\n",
    "##### We used a variety of datasets to try and come up with the best neighborhood for all of Pittsburgh\n",
    "##### We looked through all of the available datasets and chose three that seemed to relate\n",
    "##### Some of the other things we tried to explore, but ultimately nixed were Traffic Sings and Convenience stores\n",
    "---"
   ]
  },
  {
   "cell_type": "markdown",
   "metadata": {},
   "source": [
    "## Mertic\n",
    "##### We decided on using the current Crimes, Playgrounds, and School Enrollment numbers as our metric for best neighborhood"
   ]
  },
  {
   "cell_type": "code",
   "execution_count": 2,
   "metadata": {},
   "outputs": [],
   "source": [
    "import pandas as pd"
   ]
  },
  {
   "cell_type": "code",
   "execution_count": 3,
   "metadata": {},
   "outputs": [],
   "source": [
    "#importation of all csv files into pandas DataFrames\n",
    "arrests = pd.read_csv(\"Crime.csv\")\n",
    "playgrounds = pd.read_csv(\"Playgrounds.csv\")\n",
    "school_enrollment = pd.read_csv(\"SchoolEnrollment.csv\", index_col=\"Id\")"
   ]
  },
  {
   "cell_type": "code",
   "execution_count": 4,
   "metadata": {},
   "outputs": [
    {
     "data": {
      "text/html": [
       "<div>\n",
       "<style scoped>\n",
       "    .dataframe tbody tr th:only-of-type {\n",
       "        vertical-align: middle;\n",
       "    }\n",
       "\n",
       "    .dataframe tbody tr th {\n",
       "        vertical-align: top;\n",
       "    }\n",
       "\n",
       "    .dataframe thead th {\n",
       "        text-align: right;\n",
       "    }\n",
       "</style>\n",
       "<table border=\"1\" class=\"dataframe\">\n",
       "  <thead>\n",
       "    <tr style=\"text-align: right;\">\n",
       "      <th></th>\n",
       "      <th>Id</th>\n",
       "      <th>Neighborhood</th>\n",
       "      <th>Estimate; Total:</th>\n",
       "    </tr>\n",
       "  </thead>\n",
       "  <tbody>\n",
       "    <tr>\n",
       "      <th>0</th>\n",
       "      <td>1</td>\n",
       "      <td>Allegheny Center</td>\n",
       "      <td>1389.0</td>\n",
       "    </tr>\n",
       "    <tr>\n",
       "      <th>1</th>\n",
       "      <td>2</td>\n",
       "      <td>Allegheny West</td>\n",
       "      <td>343.0</td>\n",
       "    </tr>\n",
       "    <tr>\n",
       "      <th>2</th>\n",
       "      <td>3</td>\n",
       "      <td>Allentown</td>\n",
       "      <td>2520.0</td>\n",
       "    </tr>\n",
       "    <tr>\n",
       "      <th>3</th>\n",
       "      <td>4</td>\n",
       "      <td>Arlington</td>\n",
       "      <td>1823.0</td>\n",
       "    </tr>\n",
       "    <tr>\n",
       "      <th>4</th>\n",
       "      <td>5</td>\n",
       "      <td>Arlington Heights</td>\n",
       "      <td>213.0</td>\n",
       "    </tr>\n",
       "  </tbody>\n",
       "</table>\n",
       "</div>"
      ],
      "text/plain": [
       "   Id       Neighborhood  Estimate; Total:\n",
       "0   1   Allegheny Center            1389.0\n",
       "1   2     Allegheny West             343.0\n",
       "2   3          Allentown            2520.0\n",
       "3   4          Arlington            1823.0\n",
       "4   5  Arlington Heights             213.0"
      ]
     },
     "execution_count": 4,
     "metadata": {},
     "output_type": "execute_result"
    }
   ],
   "source": [
    "school_enrollment2 = school_enrollment[['Neighborhood', 'Estimate; Total:']]\n",
    "school_enrollment2.groupby('Estimate; Total:')\n",
    "school_enrollment2 = school_enrollment2.reset_index()\n",
    "school_enrollment2.head(5)"
   ]
  },
  {
   "cell_type": "code",
   "execution_count": 5,
   "metadata": {},
   "outputs": [
    {
     "data": {
      "text/html": [
       "<div>\n",
       "<style scoped>\n",
       "    .dataframe tbody tr th:only-of-type {\n",
       "        vertical-align: middle;\n",
       "    }\n",
       "\n",
       "    .dataframe tbody tr th {\n",
       "        vertical-align: top;\n",
       "    }\n",
       "\n",
       "    .dataframe thead th {\n",
       "        text-align: right;\n",
       "    }\n",
       "</style>\n",
       "<table border=\"1\" class=\"dataframe\">\n",
       "  <thead>\n",
       "    <tr style=\"text-align: right;\">\n",
       "      <th></th>\n",
       "      <th>Neighborhood</th>\n",
       "      <th>Num_Crimes</th>\n",
       "    </tr>\n",
       "  </thead>\n",
       "  <tbody>\n",
       "    <tr>\n",
       "      <th>0</th>\n",
       "      <td>Allegheny Center</td>\n",
       "      <td>653</td>\n",
       "    </tr>\n",
       "    <tr>\n",
       "      <th>1</th>\n",
       "      <td>Allegheny West</td>\n",
       "      <td>75</td>\n",
       "    </tr>\n",
       "    <tr>\n",
       "      <th>2</th>\n",
       "      <td>Allentown</td>\n",
       "      <td>539</td>\n",
       "    </tr>\n",
       "    <tr>\n",
       "      <th>3</th>\n",
       "      <td>Arlington</td>\n",
       "      <td>168</td>\n",
       "    </tr>\n",
       "    <tr>\n",
       "      <th>4</th>\n",
       "      <td>Arlington Heights</td>\n",
       "      <td>100</td>\n",
       "    </tr>\n",
       "  </tbody>\n",
       "</table>\n",
       "</div>"
      ],
      "text/plain": [
       "        Neighborhood  Num_Crimes\n",
       "0   Allegheny Center         653\n",
       "1     Allegheny West          75\n",
       "2          Allentown         539\n",
       "3          Arlington         168\n",
       "4  Arlington Heights         100"
      ]
     },
     "execution_count": 5,
     "metadata": {},
     "output_type": "execute_result"
    }
   ],
   "source": [
    "#Counting number of times each neighboorhood is mentioned in Crime.csv\n",
    "arrests_neighborhood = arrests.groupby('INCIDENTNEIGHBORHOOD').size()\n",
    "arrests_neighborhood = arrests_neighborhood.to_frame()\n",
    "arrests_neighborhood = arrests_neighborhood.reset_index()\n",
    "arrests_neighborhood = arrests_neighborhood.rename(columns = {\"INCIDENTNEIGHBORHOOD\":\"Neighborhood\", 0:\"Num_Crimes\"})\n",
    "arrests_neighborhood.head(5)"
   ]
  },
  {
   "cell_type": "code",
   "execution_count": 6,
   "metadata": {},
   "outputs": [
    {
     "data": {
      "text/html": [
       "<div>\n",
       "<style scoped>\n",
       "    .dataframe tbody tr th:only-of-type {\n",
       "        vertical-align: middle;\n",
       "    }\n",
       "\n",
       "    .dataframe tbody tr th {\n",
       "        vertical-align: top;\n",
       "    }\n",
       "\n",
       "    .dataframe thead th {\n",
       "        text-align: right;\n",
       "    }\n",
       "</style>\n",
       "<table border=\"1\" class=\"dataframe\">\n",
       "  <thead>\n",
       "    <tr style=\"text-align: right;\">\n",
       "      <th></th>\n",
       "      <th>Neighborhood</th>\n",
       "      <th>Num_Playgrounds</th>\n",
       "    </tr>\n",
       "  </thead>\n",
       "  <tbody>\n",
       "    <tr>\n",
       "      <th>0</th>\n",
       "      <td>Allegheny Center</td>\n",
       "      <td>4</td>\n",
       "    </tr>\n",
       "    <tr>\n",
       "      <th>1</th>\n",
       "      <td>Allentown</td>\n",
       "      <td>1</td>\n",
       "    </tr>\n",
       "    <tr>\n",
       "      <th>2</th>\n",
       "      <td>Banksville</td>\n",
       "      <td>1</td>\n",
       "    </tr>\n",
       "    <tr>\n",
       "      <th>3</th>\n",
       "      <td>Bedford Dwellings</td>\n",
       "      <td>1</td>\n",
       "    </tr>\n",
       "    <tr>\n",
       "      <th>4</th>\n",
       "      <td>Beechview</td>\n",
       "      <td>5</td>\n",
       "    </tr>\n",
       "  </tbody>\n",
       "</table>\n",
       "</div>"
      ],
      "text/plain": [
       "        Neighborhood  Num_Playgrounds\n",
       "0   Allegheny Center                4\n",
       "1          Allentown                1\n",
       "2         Banksville                1\n",
       "3  Bedford Dwellings                1\n",
       "4          Beechview                5"
      ]
     },
     "execution_count": 6,
     "metadata": {},
     "output_type": "execute_result"
    }
   ],
   "source": [
    "#Finds the neighborhood with the most playgrounds\n",
    "playgrounds_num = playgrounds_num = playgrounds.groupby('neighborhood').size()\n",
    "playgrounds_num = playgrounds_num.to_frame()\n",
    "playgrounds_num = playgrounds_num.reset_index()\n",
    "playgrounds_num = playgrounds_num.rename(columns = {\"neighborhood\": \"Neighborhood\", 0:\"Num_Playgrounds\"})\n",
    "playgrounds_num.head(5)"
   ]
  },
  {
   "cell_type": "markdown",
   "metadata": {},
   "source": [
    "---\n",
    "## Ratios\n",
    "##### To best decide what neighborhood would be best, we created created a playground-to-crime ratio and a school enrollment-to-crime ratio"
   ]
  },
  {
   "cell_type": "code",
   "execution_count": 7,
   "metadata": {},
   "outputs": [
    {
     "data": {
      "text/html": [
       "<div>\n",
       "<style scoped>\n",
       "    .dataframe tbody tr th:only-of-type {\n",
       "        vertical-align: middle;\n",
       "    }\n",
       "\n",
       "    .dataframe tbody tr th {\n",
       "        vertical-align: top;\n",
       "    }\n",
       "\n",
       "    .dataframe thead th {\n",
       "        text-align: right;\n",
       "    }\n",
       "</style>\n",
       "<table border=\"1\" class=\"dataframe\">\n",
       "  <thead>\n",
       "    <tr style=\"text-align: right;\">\n",
       "      <th></th>\n",
       "      <th>Neighborhood</th>\n",
       "      <th>Num_Crimes</th>\n",
       "    </tr>\n",
       "  </thead>\n",
       "  <tbody>\n",
       "    <tr>\n",
       "      <th>42</th>\n",
       "      <td>Homewood North</td>\n",
       "      <td>0.000965</td>\n",
       "    </tr>\n",
       "    <tr>\n",
       "      <th>78</th>\n",
       "      <td>South Side Flats</td>\n",
       "      <td>0.001024</td>\n",
       "    </tr>\n",
       "    <tr>\n",
       "      <th>10</th>\n",
       "      <td>Bluff</td>\n",
       "      <td>0.001272</td>\n",
       "    </tr>\n",
       "    <tr>\n",
       "      <th>68</th>\n",
       "      <td>Perry South</td>\n",
       "      <td>0.001570</td>\n",
       "    </tr>\n",
       "    <tr>\n",
       "      <th>52</th>\n",
       "      <td>Middle Hill</td>\n",
       "      <td>0.001757</td>\n",
       "    </tr>\n",
       "  </tbody>\n",
       "</table>\n",
       "</div>"
      ],
      "text/plain": [
       "        Neighborhood  Num_Crimes\n",
       "42    Homewood North    0.000965\n",
       "78  South Side Flats    0.001024\n",
       "10             Bluff    0.001272\n",
       "68       Perry South    0.001570\n",
       "52       Middle Hill    0.001757"
      ]
     },
     "execution_count": 7,
     "metadata": {},
     "output_type": "execute_result"
    }
   ],
   "source": [
    "#Playground to crime ratio\n",
    "ratio = 0\n",
    "ratioDataframe =arrests_neighborhood\n",
    "\n",
    "for i in range(0, len(arrests_neighborhood)):\n",
    "    for j in range(0, len(playgrounds_num)):\n",
    "        if playgrounds_num.loc[j, 'Neighborhood'] == arrests_neighborhood.loc[i, 'Neighborhood']:\n",
    "            ratio = float(playgrounds_num.loc[j, 'Num_Playgrounds'])/float(arrests_neighborhood.loc[i, 'Num_Crimes'])\n",
    "            ratioDataframe.loc[i, \"Num_Crimes\"] = ratio\n",
    "ratioDataframe = ratioDataframe.sort_values(\"Num_Crimes\").head(len(playgrounds_num))\n",
    "ratioDataframe.head(5)"
   ]
  },
  {
   "cell_type": "code",
   "execution_count": 11,
   "metadata": {},
   "outputs": [
    {
     "data": {
      "text/html": [
       "<div>\n",
       "<style scoped>\n",
       "    .dataframe tbody tr th:only-of-type {\n",
       "        vertical-align: middle;\n",
       "    }\n",
       "\n",
       "    .dataframe tbody tr th {\n",
       "        vertical-align: top;\n",
       "    }\n",
       "\n",
       "    .dataframe thead th {\n",
       "        text-align: right;\n",
       "    }\n",
       "</style>\n",
       "<table border=\"1\" class=\"dataframe\">\n",
       "  <thead>\n",
       "    <tr style=\"text-align: right;\">\n",
       "      <th></th>\n",
       "      <th>Neighborhood</th>\n",
       "      <th>Num_Crimes</th>\n",
       "    </tr>\n",
       "  </thead>\n",
       "  <tbody>\n",
       "    <tr>\n",
       "      <th>42</th>\n",
       "      <td>Homewood North</td>\n",
       "      <td>0.000965</td>\n",
       "    </tr>\n",
       "    <tr>\n",
       "      <th>78</th>\n",
       "      <td>South Side Flats</td>\n",
       "      <td>0.001024</td>\n",
       "    </tr>\n",
       "    <tr>\n",
       "      <th>10</th>\n",
       "      <td>Bluff</td>\n",
       "      <td>0.001272</td>\n",
       "    </tr>\n",
       "    <tr>\n",
       "      <th>68</th>\n",
       "      <td>Perry South</td>\n",
       "      <td>0.001570</td>\n",
       "    </tr>\n",
       "    <tr>\n",
       "      <th>52</th>\n",
       "      <td>Middle Hill</td>\n",
       "      <td>0.001757</td>\n",
       "    </tr>\n",
       "  </tbody>\n",
       "</table>\n",
       "</div>"
      ],
      "text/plain": [
       "        Neighborhood  Num_Crimes\n",
       "42    Homewood North    0.000965\n",
       "78  South Side Flats    0.001024\n",
       "10             Bluff    0.001272\n",
       "68       Perry South    0.001570\n",
       "52       Middle Hill    0.001757"
      ]
     },
     "execution_count": 11,
     "metadata": {},
     "output_type": "execute_result"
    }
   ],
   "source": [
    "#school enrollment to crime ratio\n",
    "ratio = 0\n",
    "ratioDataframe =arrests_neighborhood\n",
    "\n",
    "for i in range(0, len(arrests_neighborhood)):\n",
    "    for j in range(0, len(school_enrollment2)):\n",
    "        if school_enrollment2.loc[j, 'Neighborhood'] == arrests_neighborhood.loc[i, 'Neighborhood']:\n",
    "            ratio = float(school_enrollment2.loc[j, 'Estimate; Total:'])/float(arrests_neighborhood.loc[i, 'Num_Crimes'])\n",
    "            ratioDataframe.loc[i, \"Num_Crimes\"] = ratio\n",
    "ratioDataframe = ratioDataframe.sort_values(\"Num_Crimes\").head(len(school_enrollment2))\n",
    "ratioDataframe.head(5)"
   ]
  },
  {
   "cell_type": "markdown",
   "metadata": {},
   "source": [
    "---\n",
    "## Visuals"
   ]
  },
  {
   "cell_type": "code",
   "execution_count": null,
   "metadata": {},
   "outputs": [],
   "source": []
  },
  {
   "cell_type": "markdown",
   "metadata": {},
   "source": [
    "---\n",
    "## Conclusion\n",
    "<p>We decided in the end that South Side Central was the best neighborhood</p>"
   ]
  }
 ],
 "metadata": {
  "kernelspec": {
   "display_name": "Python 3.7",
   "language": "python",
   "name": "python3"
  },
  "language_info": {
   "codemirror_mode": {
    "name": "ipython",
    "version": 3
   },
   "file_extension": ".py",
   "mimetype": "text/x-python",
   "name": "python",
   "nbconvert_exporter": "python",
   "pygments_lexer": "ipython3",
   "version": "3.7.0"
  }
 },
 "nbformat": 4,
 "nbformat_minor": 4
}
