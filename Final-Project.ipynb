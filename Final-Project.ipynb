{
 "cells": [
  {
   "cell_type": "markdown",
   "metadata": {},
   "source": [
    "# THE Best Neighborhood in Pittsburgh\n",
    "## All data was updated as of 11/11/2019"
   ]
  },
  {
   "cell_type": "code",
   "execution_count": 2,
   "metadata": {},
   "outputs": [],
   "source": [
    "import pandas as pd"
   ]
  },
  {
   "cell_type": "code",
   "execution_count": 3,
   "metadata": {},
   "outputs": [],
   "source": [
    "#importation of all csv files into pandas DataFrames\n",
    "arrests = pd.read_csv(\"Crime.csv\")\n",
    "playgrounds = pd.read_csv(\"Playgrounds.csv\")\n",
    "school_enrollment = pd.read_csv(\"SchoolEnrollment.csv\", index_col=\"Id\")"
   ]
  },
  {
   "cell_type": "code",
   "execution_count": null,
   "metadata": {},
   "outputs": [],
   "source": []
  },
  {
   "cell_type": "code",
   "execution_count": 23,
   "metadata": {},
   "outputs": [
    {
     "name": "stdout",
     "output_type": "stream",
     "text": [
      "Neighborhood with least amount of crime is:  INCIDENTNEIGHBORHOOD\n",
      "Mt. Oliver Neighborhood    2\n",
      "Troy Hill-Herrs Island     6\n",
      "dtype: int64\n"
     ]
    }
   ],
   "source": [
    "#Counting number of times each neighboorhood is mentioned in Crime.csv\n",
    "#arrests_neighborhood = arrests.loc[:arrests.shape[0], 'INCIDENTNEIGHBORHOOD']\n",
    "arrests_neighborhood = arrests.groupby('INCIDENTNEIGHBORHOOD').size().sort_values()\n",
    "print('Neighborhood with least amount of crime is: ', rrests_neighborhood.iloc[:2])"
   ]
  },
  {
   "cell_type": "code",
   "execution_count": null,
   "metadata": {},
   "outputs": [],
   "source": []
  }
 ],
 "metadata": {
  "kernelspec": {
   "display_name": "Python 3.7",
   "language": "python",
   "name": "python3"
  },
  "language_info": {
   "codemirror_mode": {
    "name": "ipython",
    "version": 3
   },
   "file_extension": ".py",
   "mimetype": "text/x-python",
   "name": "python",
   "nbconvert_exporter": "python",
   "pygments_lexer": "ipython3",
   "version": "3.7.0"
  }
 },
 "nbformat": 4,
 "nbformat_minor": 4
}
